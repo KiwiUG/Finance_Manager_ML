{
 "cells": [
  {
   "cell_type": "code",
   "execution_count": 8,
   "id": "9ae8b655",
   "metadata": {},
   "outputs": [
    {
     "name": "stdout",
     "output_type": "stream",
     "text": [
      "         date    description   amount\n",
      "0  2025-08-01      Starbucks    -5.50\n",
      "1  2025-08-01         Salary  1500.00\n",
      "2  2025-08-02           Uber    -8.75\n",
      "3  2025-08-03  Grocery Store   -45.00\n",
      "4  2025-08-04  Electric Bill   -60.00\n"
     ]
    }
   ],
   "source": [
    "import pandas as pd\n",
    "\n",
    "df = pd.read_csv('../data/transactions.csv')\n",
    "print(df.head())\n"
   ]
  },
  {
   "cell_type": "code",
   "execution_count": 9,
   "id": "fd3b958c",
   "metadata": {},
   "outputs": [
    {
     "name": "stdout",
     "output_type": "stream",
     "text": [
      "         date    description   amount\n",
      "0  2025-08-01      Starbucks    -5.50\n",
      "1  2025-08-01         Salary  1500.00\n",
      "2  2025-08-02           Uber    -8.75\n",
      "3  2025-08-03  Grocery Store   -45.00\n",
      "4  2025-08-04  Electric Bill   -60.00\n",
      "<class 'pandas.core.frame.DataFrame'>\n",
      "RangeIndex: 5 entries, 0 to 4\n",
      "Data columns (total 3 columns):\n",
      " #   Column       Non-Null Count  Dtype  \n",
      "---  ------       --------------  -----  \n",
      " 0   date         5 non-null      object \n",
      " 1   description  5 non-null      object \n",
      " 2   amount       5 non-null      float64\n",
      "dtypes: float64(1), object(2)\n",
      "memory usage: 252.0+ bytes\n",
      "None\n",
      "            amount\n",
      "count     5.000000\n",
      "mean    276.150000\n",
      "std     684.550528\n",
      "min     -60.000000\n",
      "25%     -45.000000\n",
      "50%      -8.750000\n",
      "75%      -5.500000\n",
      "max    1500.000000\n"
     ]
    }
   ],
   "source": [
    "# Load Data\n",
    "import pandas as pd\n",
    "\n",
    "df = pd.read_csv('../data/transactions.csv')\n",
    "print(df.head())\n",
    "print(df.info())\n",
    "print(df.describe())\n"
   ]
  },
  {
   "cell_type": "code",
   "execution_count": 10,
   "id": "6683d00c",
   "metadata": {},
   "outputs": [],
   "source": [
    "df['date'] = pd.to_datetime(df['date'])\n",
    "df['day'] = df['date'].dt.day\n",
    "df['month'] = df['date'].dt.month\n",
    "df['year'] = df['date'].dt.year\n",
    "df['weekday'] = df['date'].dt.day_name()\n"
   ]
  },
  {
   "cell_type": "code",
   "execution_count": 11,
   "id": "4e942923",
   "metadata": {},
   "outputs": [
    {
     "data": {
      "text/html": [
       "<div>\n",
       "<style scoped>\n",
       "    .dataframe tbody tr th:only-of-type {\n",
       "        vertical-align: middle;\n",
       "    }\n",
       "\n",
       "    .dataframe tbody tr th {\n",
       "        vertical-align: top;\n",
       "    }\n",
       "\n",
       "    .dataframe thead th {\n",
       "        text-align: right;\n",
       "    }\n",
       "</style>\n",
       "<table border=\"1\" class=\"dataframe\">\n",
       "  <thead>\n",
       "    <tr style=\"text-align: right;\">\n",
       "      <th></th>\n",
       "      <th>description</th>\n",
       "      <th>category</th>\n",
       "    </tr>\n",
       "  </thead>\n",
       "  <tbody>\n",
       "    <tr>\n",
       "      <th>0</th>\n",
       "      <td>Starbucks</td>\n",
       "      <td>Food</td>\n",
       "    </tr>\n",
       "    <tr>\n",
       "      <th>1</th>\n",
       "      <td>Salary</td>\n",
       "      <td>Income</td>\n",
       "    </tr>\n",
       "    <tr>\n",
       "      <th>2</th>\n",
       "      <td>Uber</td>\n",
       "      <td>Transport</td>\n",
       "    </tr>\n",
       "    <tr>\n",
       "      <th>3</th>\n",
       "      <td>Grocery Store</td>\n",
       "      <td>Groceries</td>\n",
       "    </tr>\n",
       "    <tr>\n",
       "      <th>4</th>\n",
       "      <td>Electric Bill</td>\n",
       "      <td>Utilities</td>\n",
       "    </tr>\n",
       "  </tbody>\n",
       "</table>\n",
       "</div>"
      ],
      "text/plain": [
       "     description   category\n",
       "0      Starbucks       Food\n",
       "1         Salary     Income\n",
       "2           Uber  Transport\n",
       "3  Grocery Store  Groceries\n",
       "4  Electric Bill  Utilities"
      ]
     },
     "execution_count": 11,
     "metadata": {},
     "output_type": "execute_result"
    }
   ],
   "source": [
    "def assign_category(desc):\n",
    "    desc = desc.lower()\n",
    "    if \"starbucks\" in desc:\n",
    "        return \"Food\"\n",
    "    elif \"salary\" in desc:\n",
    "        return \"Income\"\n",
    "    elif \"uber\" in desc:\n",
    "        return \"Transport\"\n",
    "    elif \"grocery\" in desc:\n",
    "        return \"Groceries\"\n",
    "    elif \"bill\" in desc:\n",
    "        return \"Utilities\"\n",
    "    else:\n",
    "        return \"Other\"\n",
    "\n",
    "df['category'] = df['description'].apply(assign_category)\n",
    "df[['description', 'category']]\n"
   ]
  },
  {
   "cell_type": "code",
   "execution_count": 12,
   "id": "fe0d6c41",
   "metadata": {},
   "outputs": [
    {
     "name": "stderr",
     "output_type": "stream",
     "text": [
      "Matplotlib is building the font cache; this may take a moment.\n"
     ]
    },
    {
     "data": {
      "image/png": "[encoded data removed]",
      "text/plain": [
       "<Figure size 640x480 with 1 Axes>"
      ]
     },
     "metadata": {},
     "output_type": "display_data"
    }
   ],
   "source": [
    "import matplotlib.pyplot as plt\n",
    "\n",
    "df[df['amount'] < 0].groupby('category')['amount'].sum().plot(kind='bar')\n",
    "plt.title(\"Total Spending by Category\")\n",
    "plt.ylabel(\"Amount Spent\")\n",
    "plt.show()\n"
   ]
  }
 ],
 "metadata": {
  "kernelspec": {
   "display_name": "venv",
   "language": "python",
   "name": "python3"
  },
  "language_info": {
   "codemirror_mode": {
    "name": "ipython",
    "version": 3
   },
   "file_extension": ".py",
   "mimetype": "text/x-python",
   "name": "python",
   "nbconvert_exporter": "python",
   "pygments_lexer": "ipython3",
   "version": "3.13.2"
  }
 },
 "nbformat": 4,
 "nbformat_minor": 5
}
